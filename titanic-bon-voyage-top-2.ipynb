{
 "cells": [
  {
   "cell_type": "markdown",
   "metadata": {
    "papermill": {
     "duration": 0.035672,
     "end_time": "2020-10-15T04:03:22.787467",
     "exception": false,
     "start_time": "2020-10-15T04:03:22.751795",
     "status": "completed"
    },
    "tags": []
   },
   "source": [
    "15/10/2020"
   ]
  },
  {
   "cell_type": "markdown",
   "metadata": {
    "papermill": {
     "duration": 0.029639,
     "end_time": "2020-10-15T04:03:22.847577",
     "exception": false,
     "start_time": "2020-10-15T04:03:22.817938",
     "status": "completed"
    },
    "tags": []
   },
   "source": [
    "# 1. Importing Libraries"
   ]
  },
  {
   "cell_type": "code",
   "execution_count": 1,
   "metadata": {
    "_cell_guid": "79c7e3d0-c299-4dcb-8224-4455121ee9b0",
    "_uuid": "d629ff2d2480ee46fbb7e2d37f6b5fab8052498a",
    "execution": {
     "iopub.execute_input": "2020-10-15T04:03:22.914915Z",
     "iopub.status.busy": "2020-10-15T04:03:22.914021Z",
     "iopub.status.idle": "2020-10-15T04:03:23.937915Z",
     "shell.execute_reply": "2020-10-15T04:03:23.937188Z"
    },
    "papermill": {
     "duration": 1.0604,
     "end_time": "2020-10-15T04:03:23.938042",
     "exception": false,
     "start_time": "2020-10-15T04:03:22.877642",
     "status": "completed"
    },
    "tags": []
   },
   "outputs": [],
   "source": [
    "import numpy as np \n",
    "import pandas as pd\n",
    "import os\n",
    "import matplotlib.pyplot as plt\n",
    "import seaborn as sns"
   ]
  },
  {
   "cell_type": "markdown",
   "metadata": {
    "papermill": {
     "duration": 0.029495,
     "end_time": "2020-10-15T04:03:23.997886",
     "exception": false,
     "start_time": "2020-10-15T04:03:23.968391",
     "status": "completed"
    },
    "tags": []
   },
   "source": [
    "# 2. Importing Dataset"
   ]
  },
  {
   "cell_type": "code",
   "execution_count": 2,
   "metadata": {
    "execution": {
     "iopub.execute_input": "2020-10-15T04:03:24.063340Z",
     "iopub.status.busy": "2020-10-15T04:03:24.062420Z",
     "iopub.status.idle": "2020-10-15T04:03:24.097757Z",
     "shell.execute_reply": "2020-10-15T04:03:24.097232Z"
    },
    "papermill": {
     "duration": 0.070365,
     "end_time": "2020-10-15T04:03:24.097870",
     "exception": false,
     "start_time": "2020-10-15T04:03:24.027505",
     "status": "completed"
    },
    "tags": []
   },
   "outputs": [
    {
     "data": {
      "text/html": [
       "<div>\n",
       "<style scoped>\n",
       "    .dataframe tbody tr th:only-of-type {\n",
       "        vertical-align: middle;\n",
       "    }\n",
       "\n",
       "    .dataframe tbody tr th {\n",
       "        vertical-align: top;\n",
       "    }\n",
       "\n",
       "    .dataframe thead th {\n",
       "        text-align: right;\n",
       "    }\n",
       "</style>\n",
       "<table border=\"1\" class=\"dataframe\">\n",
       "  <thead>\n",
       "    <tr style=\"text-align: right;\">\n",
       "      <th></th>\n",
       "      <th>PassengerId</th>\n",
       "      <th>Survived</th>\n",
       "      <th>Pclass</th>\n",
       "      <th>Name</th>\n",
       "      <th>Sex</th>\n",
       "      <th>Age</th>\n",
       "      <th>SibSp</th>\n",
       "      <th>Parch</th>\n",
       "      <th>Ticket</th>\n",
       "      <th>Fare</th>\n",
       "      <th>Cabin</th>\n",
       "      <th>Embarked</th>\n",
       "    </tr>\n",
       "  </thead>\n",
       "  <tbody>\n",
       "    <tr>\n",
       "      <th>0</th>\n",
       "      <td>1</td>\n",
       "      <td>0</td>\n",
       "      <td>3</td>\n",
       "      <td>Braund, Mr. Owen Harris</td>\n",
       "      <td>male</td>\n",
       "      <td>22.0</td>\n",
       "      <td>1</td>\n",
       "      <td>0</td>\n",
       "      <td>A/5 21171</td>\n",
       "      <td>7.2500</td>\n",
       "      <td>NaN</td>\n",
       "      <td>S</td>\n",
       "    </tr>\n",
       "    <tr>\n",
       "      <th>1</th>\n",
       "      <td>2</td>\n",
       "      <td>1</td>\n",
       "      <td>1</td>\n",
       "      <td>Cumings, Mrs. John Bradley (Florence Briggs Th...</td>\n",
       "      <td>female</td>\n",
       "      <td>38.0</td>\n",
       "      <td>1</td>\n",
       "      <td>0</td>\n",
       "      <td>PC 17599</td>\n",
       "      <td>71.2833</td>\n",
       "      <td>C85</td>\n",
       "      <td>C</td>\n",
       "    </tr>\n",
       "    <tr>\n",
       "      <th>2</th>\n",
       "      <td>3</td>\n",
       "      <td>1</td>\n",
       "      <td>3</td>\n",
       "      <td>Heikkinen, Miss. Laina</td>\n",
       "      <td>female</td>\n",
       "      <td>26.0</td>\n",
       "      <td>0</td>\n",
       "      <td>0</td>\n",
       "      <td>STON/O2. 3101282</td>\n",
       "      <td>7.9250</td>\n",
       "      <td>NaN</td>\n",
       "      <td>S</td>\n",
       "    </tr>\n",
       "    <tr>\n",
       "      <th>3</th>\n",
       "      <td>4</td>\n",
       "      <td>1</td>\n",
       "      <td>1</td>\n",
       "      <td>Futrelle, Mrs. Jacques Heath (Lily May Peel)</td>\n",
       "      <td>female</td>\n",
       "      <td>35.0</td>\n",
       "      <td>1</td>\n",
       "      <td>0</td>\n",
       "      <td>113803</td>\n",
       "      <td>53.1000</td>\n",
       "      <td>C123</td>\n",
       "      <td>S</td>\n",
       "    </tr>\n",
       "    <tr>\n",
       "      <th>4</th>\n",
       "      <td>5</td>\n",
       "      <td>0</td>\n",
       "      <td>3</td>\n",
       "      <td>Allen, Mr. William Henry</td>\n",
       "      <td>male</td>\n",
       "      <td>35.0</td>\n",
       "      <td>0</td>\n",
       "      <td>0</td>\n",
       "      <td>373450</td>\n",
       "      <td>8.0500</td>\n",
       "      <td>NaN</td>\n",
       "      <td>S</td>\n",
       "    </tr>\n",
       "  </tbody>\n",
       "</table>\n",
       "</div>"
      ],
      "text/plain": [
       "   PassengerId  Survived  Pclass  \\\n",
       "0            1         0       3   \n",
       "1            2         1       1   \n",
       "2            3         1       3   \n",
       "3            4         1       1   \n",
       "4            5         0       3   \n",
       "\n",
       "                                                Name     Sex   Age  SibSp  \\\n",
       "0                            Braund, Mr. Owen Harris    male  22.0      1   \n",
       "1  Cumings, Mrs. John Bradley (Florence Briggs Th...  female  38.0      1   \n",
       "2                             Heikkinen, Miss. Laina  female  26.0      0   \n",
       "3       Futrelle, Mrs. Jacques Heath (Lily May Peel)  female  35.0      1   \n",
       "4                           Allen, Mr. William Henry    male  35.0      0   \n",
       "\n",
       "   Parch            Ticket     Fare Cabin Embarked  \n",
       "0      0         A/5 21171   7.2500   NaN        S  \n",
       "1      0          PC 17599  71.2833   C85        C  \n",
       "2      0  STON/O2. 3101282   7.9250   NaN        S  \n",
       "3      0            113803  53.1000  C123        S  \n",
       "4      0            373450   8.0500   NaN        S  "
      ]
     },
     "execution_count": 2,
     "metadata": {},
     "output_type": "execute_result"
    }
   ],
   "source": [
    "# training data\n",
    "train_dts = pd.read_csv('../input/titanic/train.csv')\n",
    "train_dts.head()"
   ]
  },
  {
   "cell_type": "code",
   "execution_count": 3,
   "metadata": {
    "execution": {
     "iopub.execute_input": "2020-10-15T04:03:24.165434Z",
     "iopub.status.busy": "2020-10-15T04:03:24.164752Z",
     "iopub.status.idle": "2020-10-15T04:03:24.183126Z",
     "shell.execute_reply": "2020-10-15T04:03:24.182461Z"
    },
    "papermill": {
     "duration": 0.054569,
     "end_time": "2020-10-15T04:03:24.183239",
     "exception": false,
     "start_time": "2020-10-15T04:03:24.128670",
     "status": "completed"
    },
    "tags": []
   },
   "outputs": [
    {
     "data": {
      "text/html": [
       "<div>\n",
       "<style scoped>\n",
       "    .dataframe tbody tr th:only-of-type {\n",
       "        vertical-align: middle;\n",
       "    }\n",
       "\n",
       "    .dataframe tbody tr th {\n",
       "        vertical-align: top;\n",
       "    }\n",
       "\n",
       "    .dataframe thead th {\n",
       "        text-align: right;\n",
       "    }\n",
       "</style>\n",
       "<table border=\"1\" class=\"dataframe\">\n",
       "  <thead>\n",
       "    <tr style=\"text-align: right;\">\n",
       "      <th></th>\n",
       "      <th>PassengerId</th>\n",
       "      <th>Pclass</th>\n",
       "      <th>Name</th>\n",
       "      <th>Sex</th>\n",
       "      <th>Age</th>\n",
       "      <th>SibSp</th>\n",
       "      <th>Parch</th>\n",
       "      <th>Ticket</th>\n",
       "      <th>Fare</th>\n",
       "      <th>Cabin</th>\n",
       "      <th>Embarked</th>\n",
       "    </tr>\n",
       "  </thead>\n",
       "  <tbody>\n",
       "    <tr>\n",
       "      <th>0</th>\n",
       "      <td>892</td>\n",
       "      <td>3</td>\n",
       "      <td>Kelly, Mr. James</td>\n",
       "      <td>male</td>\n",
       "      <td>34.5</td>\n",
       "      <td>0</td>\n",
       "      <td>0</td>\n",
       "      <td>330911</td>\n",
       "      <td>7.8292</td>\n",
       "      <td>NaN</td>\n",
       "      <td>Q</td>\n",
       "    </tr>\n",
       "    <tr>\n",
       "      <th>1</th>\n",
       "      <td>893</td>\n",
       "      <td>3</td>\n",
       "      <td>Wilkes, Mrs. James (Ellen Needs)</td>\n",
       "      <td>female</td>\n",
       "      <td>47.0</td>\n",
       "      <td>1</td>\n",
       "      <td>0</td>\n",
       "      <td>363272</td>\n",
       "      <td>7.0000</td>\n",
       "      <td>NaN</td>\n",
       "      <td>S</td>\n",
       "    </tr>\n",
       "    <tr>\n",
       "      <th>2</th>\n",
       "      <td>894</td>\n",
       "      <td>2</td>\n",
       "      <td>Myles, Mr. Thomas Francis</td>\n",
       "      <td>male</td>\n",
       "      <td>62.0</td>\n",
       "      <td>0</td>\n",
       "      <td>0</td>\n",
       "      <td>240276</td>\n",
       "      <td>9.6875</td>\n",
       "      <td>NaN</td>\n",
       "      <td>Q</td>\n",
       "    </tr>\n",
       "    <tr>\n",
       "      <th>3</th>\n",
       "      <td>895</td>\n",
       "      <td>3</td>\n",
       "      <td>Wirz, Mr. Albert</td>\n",
       "      <td>male</td>\n",
       "      <td>27.0</td>\n",
       "      <td>0</td>\n",
       "      <td>0</td>\n",
       "      <td>315154</td>\n",
       "      <td>8.6625</td>\n",
       "      <td>NaN</td>\n",
       "      <td>S</td>\n",
       "    </tr>\n",
       "    <tr>\n",
       "      <th>4</th>\n",
       "      <td>896</td>\n",
       "      <td>3</td>\n",
       "      <td>Hirvonen, Mrs. Alexander (Helga E Lindqvist)</td>\n",
       "      <td>female</td>\n",
       "      <td>22.0</td>\n",
       "      <td>1</td>\n",
       "      <td>1</td>\n",
       "      <td>3101298</td>\n",
       "      <td>12.2875</td>\n",
       "      <td>NaN</td>\n",
       "      <td>S</td>\n",
       "    </tr>\n",
       "  </tbody>\n",
       "</table>\n",
       "</div>"
      ],
      "text/plain": [
       "   PassengerId  Pclass                                          Name     Sex  \\\n",
       "0          892       3                              Kelly, Mr. James    male   \n",
       "1          893       3              Wilkes, Mrs. James (Ellen Needs)  female   \n",
       "2          894       2                     Myles, Mr. Thomas Francis    male   \n",
       "3          895       3                              Wirz, Mr. Albert    male   \n",
       "4          896       3  Hirvonen, Mrs. Alexander (Helga E Lindqvist)  female   \n",
       "\n",
       "    Age  SibSp  Parch   Ticket     Fare Cabin Embarked  \n",
       "0  34.5      0      0   330911   7.8292   NaN        Q  \n",
       "1  47.0      1      0   363272   7.0000   NaN        S  \n",
       "2  62.0      0      0   240276   9.6875   NaN        Q  \n",
       "3  27.0      0      0   315154   8.6625   NaN        S  \n",
       "4  22.0      1      1  3101298  12.2875   NaN        S  "
      ]
     },
     "execution_count": 3,
     "metadata": {},
     "output_type": "execute_result"
    }
   ],
   "source": [
    "# test data\n",
    "test_dts = pd.read_csv('../input/titanic/test.csv')\n",
    "test_dts.head()"
   ]
  },
  {
   "cell_type": "markdown",
   "metadata": {
    "papermill": {
     "duration": 0.030524,
     "end_time": "2020-10-15T04:03:24.245442",
     "exception": false,
     "start_time": "2020-10-15T04:03:24.214918",
     "status": "completed"
    },
    "tags": []
   },
   "source": [
    "### **2.1 Overview** \n",
    "* `PassengerId` is the unique id of the row and it doesn't have any effect on target\n",
    "* `Survived` is the target variable we are trying to predict (**0** or **1**):\n",
    "    - **1 = Survived**\n",
    "    - **0 = Not Survived**\n",
    "* `Pclass` (Passenger Class) is the socio-economic status of the passenger and it is a categorical ordinal feature which has **3** unique values (**1**,  **2 **or **3**):\n",
    "    - **1 = Upper Class**\n",
    "    - **2 = Middle Class**\n",
    "    - **3 = Lower Class**\n",
    "* `Name`, `Sex` and `Age` are self-explanatory\n",
    "* `SibSp` is the total number of the passengers' siblings and spouse\n",
    "* `Parch` is the total number of the passengers' parents and children\n",
    "* `Ticket` is the ticket number of the passenger\n",
    "* `Fare` is the passenger fare\n",
    "* `Cabin` is the cabin number of the passenger\n",
    "* `Embarked` is port of embarkation and it is a categorical feature which has **3** unique values (**C**, **Q** or **S**):\n",
    "    - **C = Cherbourg**\n",
    "    - **Q = Queenstown**\n",
    "    - **S = Southampton**"
   ]
  },
  {
   "cell_type": "markdown",
   "metadata": {
    "papermill": {
     "duration": 0.030332,
     "end_time": "2020-10-15T04:03:24.306565",
     "exception": false,
     "start_time": "2020-10-15T04:03:24.276233",
     "status": "completed"
    },
    "tags": []
   },
   "source": [
    "# 3. Feature Engineering"
   ]
  },
  {
   "cell_type": "markdown",
   "metadata": {
    "papermill": {
     "duration": 0.030511,
     "end_time": "2020-10-15T04:03:24.368270",
     "exception": false,
     "start_time": "2020-10-15T04:03:24.337759",
     "status": "completed"
    },
    "tags": []
   },
   "source": [
    "Calculating Survival rate of Male and Female on training set"
   ]
  },
  {
   "cell_type": "code",
   "execution_count": 4,
   "metadata": {
    "execution": {
     "iopub.execute_input": "2020-10-15T04:03:24.440550Z",
     "iopub.status.busy": "2020-10-15T04:03:24.439613Z",
     "iopub.status.idle": "2020-10-15T04:03:24.444527Z",
     "shell.execute_reply": "2020-10-15T04:03:24.445047Z"
    },
    "papermill": {
     "duration": 0.046265,
     "end_time": "2020-10-15T04:03:24.445203",
     "exception": false,
     "start_time": "2020-10-15T04:03:24.398938",
     "status": "completed"
    },
    "tags": []
   },
   "outputs": [
    {
     "name": "stdout",
     "output_type": "stream",
     "text": [
      "% of Female survived : 74.204\n",
      "% of Male survived : 18.891\n"
     ]
    }
   ],
   "source": [
    "female = train_dts.loc[train_dts.Sex=='female']['Survived']\n",
    "print('% of Female survived : {:.3f}'.format((sum(female)/len(female))*100))\n",
    "\n",
    "male = train_dts.loc[train_dts.Sex=='male']['Survived']\n",
    "print('% of Male survived : {:.3f}'.format((sum(male)/len(male))*100))"
   ]
  },
  {
   "cell_type": "markdown",
   "metadata": {
    "papermill": {
     "duration": 0.031014,
     "end_time": "2020-10-15T04:03:24.507330",
     "exception": false,
     "start_time": "2020-10-15T04:03:24.476316",
     "status": "completed"
    },
    "tags": []
   },
   "source": [
    "can be seen clearly that female has much larger probablity of surviving then male"
   ]
  },
  {
   "cell_type": "code",
   "execution_count": 5,
   "metadata": {
    "execution": {
     "iopub.execute_input": "2020-10-15T04:03:24.587599Z",
     "iopub.status.busy": "2020-10-15T04:03:24.586700Z",
     "iopub.status.idle": "2020-10-15T04:03:24.590317Z",
     "shell.execute_reply": "2020-10-15T04:03:24.589667Z"
    },
    "papermill": {
     "duration": 0.051946,
     "end_time": "2020-10-15T04:03:24.590433",
     "exception": false,
     "start_time": "2020-10-15T04:03:24.538487",
     "status": "completed"
    },
    "tags": []
   },
   "outputs": [
    {
     "name": "stdout",
     "output_type": "stream",
     "text": [
      "Shape of Training Set : (891, 12)\n",
      "Number of training data points : 891\n",
      "\n",
      "Shape of Test Set : (418, 11)\n",
      "Number of test data points : 418\n",
      "\n",
      "Columns : Index(['PassengerId', 'Survived', 'Pclass', 'Name', 'Sex', 'Age', 'SibSp',\n",
      "       'Parch', 'Ticket', 'Fare', 'Cabin', 'Embarked'],\n",
      "      dtype='object')\n",
      "<class 'pandas.core.frame.DataFrame'>\n",
      "RangeIndex: 891 entries, 0 to 890\n",
      "Data columns (total 12 columns):\n",
      " #   Column       Non-Null Count  Dtype  \n",
      "---  ------       --------------  -----  \n",
      " 0   PassengerId  891 non-null    int64  \n",
      " 1   Survived     891 non-null    int64  \n",
      " 2   Pclass       891 non-null    int64  \n",
      " 3   Name         891 non-null    object \n",
      " 4   Sex          891 non-null    object \n",
      " 5   Age          714 non-null    float64\n",
      " 6   SibSp        891 non-null    int64  \n",
      " 7   Parch        891 non-null    int64  \n",
      " 8   Ticket       891 non-null    object \n",
      " 9   Fare         891 non-null    float64\n",
      " 10  Cabin        204 non-null    object \n",
      " 11  Embarked     889 non-null    object \n",
      "dtypes: float64(2), int64(5), object(5)\n",
      "memory usage: 83.7+ KB\n"
     ]
    }
   ],
   "source": [
    "print('Shape of Training Set : {}'.format(train_dts.shape))\n",
    "print('Number of training data points : {}\\n'.format(len(train_dts)))\n",
    "print('Shape of Test Set : {}'.format(test_dts.shape))\n",
    "print('Number of test data points : {}\\n'.format(len(test_dts)))\n",
    "print('Columns : {}'.format(train_dts.columns))\n",
    "train_dts.info()"
   ]
  },
  {
   "cell_type": "code",
   "execution_count": 6,
   "metadata": {
    "execution": {
     "iopub.execute_input": "2020-10-15T04:03:24.665918Z",
     "iopub.status.busy": "2020-10-15T04:03:24.665051Z",
     "iopub.status.idle": "2020-10-15T04:03:24.668662Z",
     "shell.execute_reply": "2020-10-15T04:03:24.668013Z"
    },
    "papermill": {
     "duration": 0.046679,
     "end_time": "2020-10-15T04:03:24.668795",
     "exception": false,
     "start_time": "2020-10-15T04:03:24.622116",
     "status": "completed"
    },
    "tags": []
   },
   "outputs": [
    {
     "name": "stdout",
     "output_type": "stream",
     "text": [
      "<class 'pandas.core.frame.DataFrame'>\n",
      "RangeIndex: 418 entries, 0 to 417\n",
      "Data columns (total 11 columns):\n",
      " #   Column       Non-Null Count  Dtype  \n",
      "---  ------       --------------  -----  \n",
      " 0   PassengerId  418 non-null    int64  \n",
      " 1   Pclass       418 non-null    int64  \n",
      " 2   Name         418 non-null    object \n",
      " 3   Sex          418 non-null    object \n",
      " 4   Age          332 non-null    float64\n",
      " 5   SibSp        418 non-null    int64  \n",
      " 6   Parch        418 non-null    int64  \n",
      " 7   Ticket       418 non-null    object \n",
      " 8   Fare         417 non-null    float64\n",
      " 9   Cabin        91 non-null     object \n",
      " 10  Embarked     418 non-null    object \n",
      "dtypes: float64(2), int64(4), object(5)\n",
      "memory usage: 36.0+ KB\n"
     ]
    }
   ],
   "source": [
    "test_dts.info()"
   ]
  },
  {
   "cell_type": "code",
   "execution_count": 7,
   "metadata": {
    "execution": {
     "iopub.execute_input": "2020-10-15T04:03:24.744751Z",
     "iopub.status.busy": "2020-10-15T04:03:24.743651Z",
     "iopub.status.idle": "2020-10-15T04:03:24.772839Z",
     "shell.execute_reply": "2020-10-15T04:03:24.772249Z"
    },
    "papermill": {
     "duration": 0.069411,
     "end_time": "2020-10-15T04:03:24.772955",
     "exception": false,
     "start_time": "2020-10-15T04:03:24.703544",
     "status": "completed"
    },
    "tags": []
   },
   "outputs": [
    {
     "data": {
      "text/html": [
       "<div>\n",
       "<style scoped>\n",
       "    .dataframe tbody tr th:only-of-type {\n",
       "        vertical-align: middle;\n",
       "    }\n",
       "\n",
       "    .dataframe tbody tr th {\n",
       "        vertical-align: top;\n",
       "    }\n",
       "\n",
       "    .dataframe thead th {\n",
       "        text-align: right;\n",
       "    }\n",
       "</style>\n",
       "<table border=\"1\" class=\"dataframe\">\n",
       "  <thead>\n",
       "    <tr style=\"text-align: right;\">\n",
       "      <th></th>\n",
       "      <th>PassengerId</th>\n",
       "      <th>Survived</th>\n",
       "      <th>Pclass</th>\n",
       "      <th>Age</th>\n",
       "      <th>SibSp</th>\n",
       "      <th>Parch</th>\n",
       "      <th>Fare</th>\n",
       "    </tr>\n",
       "  </thead>\n",
       "  <tbody>\n",
       "    <tr>\n",
       "      <th>count</th>\n",
       "      <td>891.000000</td>\n",
       "      <td>891.000000</td>\n",
       "      <td>891.000000</td>\n",
       "      <td>714.000000</td>\n",
       "      <td>891.000000</td>\n",
       "      <td>891.000000</td>\n",
       "      <td>891.000000</td>\n",
       "    </tr>\n",
       "    <tr>\n",
       "      <th>mean</th>\n",
       "      <td>446.000000</td>\n",
       "      <td>0.383838</td>\n",
       "      <td>2.308642</td>\n",
       "      <td>29.699118</td>\n",
       "      <td>0.523008</td>\n",
       "      <td>0.381594</td>\n",
       "      <td>32.204208</td>\n",
       "    </tr>\n",
       "    <tr>\n",
       "      <th>std</th>\n",
       "      <td>257.353842</td>\n",
       "      <td>0.486592</td>\n",
       "      <td>0.836071</td>\n",
       "      <td>14.526497</td>\n",
       "      <td>1.102743</td>\n",
       "      <td>0.806057</td>\n",
       "      <td>49.693429</td>\n",
       "    </tr>\n",
       "    <tr>\n",
       "      <th>min</th>\n",
       "      <td>1.000000</td>\n",
       "      <td>0.000000</td>\n",
       "      <td>1.000000</td>\n",
       "      <td>0.420000</td>\n",
       "      <td>0.000000</td>\n",
       "      <td>0.000000</td>\n",
       "      <td>0.000000</td>\n",
       "    </tr>\n",
       "    <tr>\n",
       "      <th>25%</th>\n",
       "      <td>223.500000</td>\n",
       "      <td>0.000000</td>\n",
       "      <td>2.000000</td>\n",
       "      <td>20.125000</td>\n",
       "      <td>0.000000</td>\n",
       "      <td>0.000000</td>\n",
       "      <td>7.910400</td>\n",
       "    </tr>\n",
       "    <tr>\n",
       "      <th>50%</th>\n",
       "      <td>446.000000</td>\n",
       "      <td>0.000000</td>\n",
       "      <td>3.000000</td>\n",
       "      <td>28.000000</td>\n",
       "      <td>0.000000</td>\n",
       "      <td>0.000000</td>\n",
       "      <td>14.454200</td>\n",
       "    </tr>\n",
       "    <tr>\n",
       "      <th>75%</th>\n",
       "      <td>668.500000</td>\n",
       "      <td>1.000000</td>\n",
       "      <td>3.000000</td>\n",
       "      <td>38.000000</td>\n",
       "      <td>1.000000</td>\n",
       "      <td>0.000000</td>\n",
       "      <td>31.000000</td>\n",
       "    </tr>\n",
       "    <tr>\n",
       "      <th>max</th>\n",
       "      <td>891.000000</td>\n",
       "      <td>1.000000</td>\n",
       "      <td>3.000000</td>\n",
       "      <td>80.000000</td>\n",
       "      <td>8.000000</td>\n",
       "      <td>6.000000</td>\n",
       "      <td>512.329200</td>\n",
       "    </tr>\n",
       "  </tbody>\n",
       "</table>\n",
       "</div>"
      ],
      "text/plain": [
       "       PassengerId    Survived      Pclass         Age       SibSp  \\\n",
       "count   891.000000  891.000000  891.000000  714.000000  891.000000   \n",
       "mean    446.000000    0.383838    2.308642   29.699118    0.523008   \n",
       "std     257.353842    0.486592    0.836071   14.526497    1.102743   \n",
       "min       1.000000    0.000000    1.000000    0.420000    0.000000   \n",
       "25%     223.500000    0.000000    2.000000   20.125000    0.000000   \n",
       "50%     446.000000    0.000000    3.000000   28.000000    0.000000   \n",
       "75%     668.500000    1.000000    3.000000   38.000000    1.000000   \n",
       "max     891.000000    1.000000    3.000000   80.000000    8.000000   \n",
       "\n",
       "            Parch        Fare  \n",
       "count  891.000000  891.000000  \n",
       "mean     0.381594   32.204208  \n",
       "std      0.806057   49.693429  \n",
       "min      0.000000    0.000000  \n",
       "25%      0.000000    7.910400  \n",
       "50%      0.000000   14.454200  \n",
       "75%      0.000000   31.000000  \n",
       "max      6.000000  512.329200  "
      ]
     },
     "execution_count": 7,
     "metadata": {},
     "output_type": "execute_result"
    }
   ],
   "source": [
    "train_dts.describe()"
   ]
  },
  {
   "cell_type": "code",
   "execution_count": 8,
   "metadata": {
    "execution": {
     "iopub.execute_input": "2020-10-15T04:03:24.848561Z",
     "iopub.status.busy": "2020-10-15T04:03:24.846484Z",
     "iopub.status.idle": "2020-10-15T04:03:24.870932Z",
     "shell.execute_reply": "2020-10-15T04:03:24.870357Z"
    },
    "papermill": {
     "duration": 0.06499,
     "end_time": "2020-10-15T04:03:24.871048",
     "exception": false,
     "start_time": "2020-10-15T04:03:24.806058",
     "status": "completed"
    },
    "tags": []
   },
   "outputs": [
    {
     "data": {
      "text/html": [
       "<div>\n",
       "<style scoped>\n",
       "    .dataframe tbody tr th:only-of-type {\n",
       "        vertical-align: middle;\n",
       "    }\n",
       "\n",
       "    .dataframe tbody tr th {\n",
       "        vertical-align: top;\n",
       "    }\n",
       "\n",
       "    .dataframe thead th {\n",
       "        text-align: right;\n",
       "    }\n",
       "</style>\n",
       "<table border=\"1\" class=\"dataframe\">\n",
       "  <thead>\n",
       "    <tr style=\"text-align: right;\">\n",
       "      <th></th>\n",
       "      <th>PassengerId</th>\n",
       "      <th>Pclass</th>\n",
       "      <th>Age</th>\n",
       "      <th>SibSp</th>\n",
       "      <th>Parch</th>\n",
       "      <th>Fare</th>\n",
       "    </tr>\n",
       "  </thead>\n",
       "  <tbody>\n",
       "    <tr>\n",
       "      <th>count</th>\n",
       "      <td>418.000000</td>\n",
       "      <td>418.000000</td>\n",
       "      <td>332.000000</td>\n",
       "      <td>418.000000</td>\n",
       "      <td>418.000000</td>\n",
       "      <td>417.000000</td>\n",
       "    </tr>\n",
       "    <tr>\n",
       "      <th>mean</th>\n",
       "      <td>1100.500000</td>\n",
       "      <td>2.265550</td>\n",
       "      <td>30.272590</td>\n",
       "      <td>0.447368</td>\n",
       "      <td>0.392344</td>\n",
       "      <td>35.627188</td>\n",
       "    </tr>\n",
       "    <tr>\n",
       "      <th>std</th>\n",
       "      <td>120.810458</td>\n",
       "      <td>0.841838</td>\n",
       "      <td>14.181209</td>\n",
       "      <td>0.896760</td>\n",
       "      <td>0.981429</td>\n",
       "      <td>55.907576</td>\n",
       "    </tr>\n",
       "    <tr>\n",
       "      <th>min</th>\n",
       "      <td>892.000000</td>\n",
       "      <td>1.000000</td>\n",
       "      <td>0.170000</td>\n",
       "      <td>0.000000</td>\n",
       "      <td>0.000000</td>\n",
       "      <td>0.000000</td>\n",
       "    </tr>\n",
       "    <tr>\n",
       "      <th>25%</th>\n",
       "      <td>996.250000</td>\n",
       "      <td>1.000000</td>\n",
       "      <td>21.000000</td>\n",
       "      <td>0.000000</td>\n",
       "      <td>0.000000</td>\n",
       "      <td>7.895800</td>\n",
       "    </tr>\n",
       "    <tr>\n",
       "      <th>50%</th>\n",
       "      <td>1100.500000</td>\n",
       "      <td>3.000000</td>\n",
       "      <td>27.000000</td>\n",
       "      <td>0.000000</td>\n",
       "      <td>0.000000</td>\n",
       "      <td>14.454200</td>\n",
       "    </tr>\n",
       "    <tr>\n",
       "      <th>75%</th>\n",
       "      <td>1204.750000</td>\n",
       "      <td>3.000000</td>\n",
       "      <td>39.000000</td>\n",
       "      <td>1.000000</td>\n",
       "      <td>0.000000</td>\n",
       "      <td>31.500000</td>\n",
       "    </tr>\n",
       "    <tr>\n",
       "      <th>max</th>\n",
       "      <td>1309.000000</td>\n",
       "      <td>3.000000</td>\n",
       "      <td>76.000000</td>\n",
       "      <td>8.000000</td>\n",
       "      <td>9.000000</td>\n",
       "      <td>512.329200</td>\n",
       "    </tr>\n",
       "  </tbody>\n",
       "</table>\n",
       "</div>"
      ],
      "text/plain": [
       "       PassengerId      Pclass         Age       SibSp       Parch        Fare\n",
       "count   418.000000  418.000000  332.000000  418.000000  418.000000  417.000000\n",
       "mean   1100.500000    2.265550   30.272590    0.447368    0.392344   35.627188\n",
       "std     120.810458    0.841838   14.181209    0.896760    0.981429   55.907576\n",
       "min     892.000000    1.000000    0.170000    0.000000    0.000000    0.000000\n",
       "25%     996.250000    1.000000   21.000000    0.000000    0.000000    7.895800\n",
       "50%    1100.500000    3.000000   27.000000    0.000000    0.000000   14.454200\n",
       "75%    1204.750000    3.000000   39.000000    1.000000    0.000000   31.500000\n",
       "max    1309.000000    3.000000   76.000000    8.000000    9.000000  512.329200"
      ]
     },
     "execution_count": 8,
     "metadata": {},
     "output_type": "execute_result"
    }
   ],
   "source": [
    "test_dts.describe()"
   ]
  },
  {
   "cell_type": "markdown",
   "metadata": {
    "papermill": {
     "duration": 0.033037,
     "end_time": "2020-10-15T04:03:24.937378",
     "exception": false,
     "start_time": "2020-10-15T04:03:24.904341",
     "status": "completed"
    },
    "tags": []
   },
   "source": [
    "### 3.1 Heatmap"
   ]
  },
  {
   "cell_type": "code",
   "execution_count": 9,
   "metadata": {
    "execution": {
     "iopub.execute_input": "2020-10-15T04:03:25.011001Z",
     "iopub.status.busy": "2020-10-15T04:03:25.010348Z",
     "iopub.status.idle": "2020-10-15T04:03:25.438808Z",
     "shell.execute_reply": "2020-10-15T04:03:25.439292Z"
    },
    "papermill": {
     "duration": 0.467542,
     "end_time": "2020-10-15T04:03:25.439429",
     "exception": false,
     "start_time": "2020-10-15T04:03:24.971887",
     "status": "completed"
    },
    "tags": []
   },
   "outputs": [
    {
     "data": {
      "image/png": "[encoded data removed]",
      "text/plain": [
       "<Figure size 432x288 with 2 Axes>"
      ]
     },
     "metadata": {
      "needs_background": "light"
     },
     "output_type": "display_data"
    }
   ],
   "source": [
    "g = sns.heatmap(train_dts.corr(),annot=True, fmt = \".1f\", cmap = \"coolwarm\")"
   ]
  },
  {
   "cell_type": "markdown",
   "metadata": {
    "papermill": {
     "duration": 0.033562,
     "end_time": "2020-10-15T04:03:25.507436",
     "exception": false,
     "start_time": "2020-10-15T04:03:25.473874",
     "status": "completed"
    },
    "tags": []
   },
   "source": [
    "### 3.2 Age Histogram Plot"
   ]
  },
  {
   "cell_type": "code",
   "execution_count": 10,
   "metadata": {
    "execution": {
     "iopub.execute_input": "2020-10-15T04:03:25.580013Z",
     "iopub.status.busy": "2020-10-15T04:03:25.579294Z",
     "iopub.status.idle": "2020-10-15T04:03:25.756672Z",
     "shell.execute_reply": "2020-10-15T04:03:25.756153Z"
    },
    "papermill": {
     "duration": 0.215656,
     "end_time": "2020-10-15T04:03:25.756808",
     "exception": false,
     "start_time": "2020-10-15T04:03:25.541152",
     "status": "completed"
    },
    "tags": []
   },
   "outputs": [
    {
     "data": {
      "image/png": "[encoded data removed]",
      "text/plain": [
       "<Figure size 432x288 with 1 Axes>"
      ]
     },
     "metadata": {
      "needs_background": "light"
     },
     "output_type": "display_data"
    }
   ],
   "source": [
    "age_hist = train_dts.Age.hist()"
   ]
  },
  {
   "cell_type": "markdown",
   "metadata": {
    "papermill": {
     "duration": 0.034013,
     "end_time": "2020-10-15T04:03:25.825384",
     "exception": false,
     "start_time": "2020-10-15T04:03:25.791371",
     "status": "completed"
    },
    "tags": []
   },
   "source": [
    "from the above histogram it can be observed that most of the passengers were from the age group of 20 - 40"
   ]
  },
  {
   "cell_type": "code",
   "execution_count": 11,
   "metadata": {
    "execution": {
     "iopub.execute_input": "2020-10-15T04:03:25.901616Z",
     "iopub.status.busy": "2020-10-15T04:03:25.901023Z",
     "iopub.status.idle": "2020-10-15T04:03:25.907592Z",
     "shell.execute_reply": "2020-10-15T04:03:25.907099Z"
    },
    "papermill": {
     "duration": 0.048036,
     "end_time": "2020-10-15T04:03:25.907697",
     "exception": false,
     "start_time": "2020-10-15T04:03:25.859661",
     "status": "completed"
    },
    "tags": []
   },
   "outputs": [
    {
     "data": {
      "text/plain": [
       "Pclass\n",
       "1    0.629630\n",
       "2    0.472826\n",
       "3    0.242363\n",
       "Name: Survived, dtype: float64"
      ]
     },
     "execution_count": 11,
     "metadata": {},
     "output_type": "execute_result"
    }
   ],
   "source": [
    "train_dts.groupby('Pclass').Survived.mean()"
   ]
  },
  {
   "cell_type": "markdown",
   "metadata": {
    "papermill": {
     "duration": 0.034741,
     "end_time": "2020-10-15T04:03:25.977368",
     "exception": false,
     "start_time": "2020-10-15T04:03:25.942627",
     "status": "completed"
    },
    "tags": []
   },
   "source": [
    "the Passenger Class status also has an influence on the survival chances"
   ]
  },
  {
   "cell_type": "code",
   "execution_count": 12,
   "metadata": {
    "execution": {
     "iopub.execute_input": "2020-10-15T04:03:26.054997Z",
     "iopub.status.busy": "2020-10-15T04:03:26.054330Z",
     "iopub.status.idle": "2020-10-15T04:03:26.095424Z",
     "shell.execute_reply": "2020-10-15T04:03:26.094881Z"
    },
    "papermill": {
     "duration": 0.083367,
     "end_time": "2020-10-15T04:03:26.095544",
     "exception": false,
     "start_time": "2020-10-15T04:03:26.012177",
     "status": "completed"
    },
    "tags": []
   },
   "outputs": [
    {
     "data": {
      "text/html": [
       "<div>\n",
       "<style scoped>\n",
       "    .dataframe tbody tr th:only-of-type {\n",
       "        vertical-align: middle;\n",
       "    }\n",
       "\n",
       "    .dataframe tbody tr th {\n",
       "        vertical-align: top;\n",
       "    }\n",
       "\n",
       "    .dataframe thead th {\n",
       "        text-align: right;\n",
       "    }\n",
       "</style>\n",
       "<table border=\"1\" class=\"dataframe\">\n",
       "  <thead>\n",
       "    <tr style=\"text-align: right;\">\n",
       "      <th>Pclass</th>\n",
       "      <th>1</th>\n",
       "      <th>2</th>\n",
       "      <th>3</th>\n",
       "    </tr>\n",
       "    <tr>\n",
       "      <th>Sex</th>\n",
       "      <th></th>\n",
       "      <th></th>\n",
       "      <th></th>\n",
       "    </tr>\n",
       "  </thead>\n",
       "  <tbody>\n",
       "    <tr>\n",
       "      <th>female</th>\n",
       "      <td>0.968085</td>\n",
       "      <td>0.921053</td>\n",
       "      <td>0.500000</td>\n",
       "    </tr>\n",
       "    <tr>\n",
       "      <th>male</th>\n",
       "      <td>0.368852</td>\n",
       "      <td>0.157407</td>\n",
       "      <td>0.135447</td>\n",
       "    </tr>\n",
       "  </tbody>\n",
       "</table>\n",
       "</div>"
      ],
      "text/plain": [
       "Pclass         1         2         3\n",
       "Sex                                 \n",
       "female  0.968085  0.921053  0.500000\n",
       "male    0.368852  0.157407  0.135447"
      ]
     },
     "execution_count": 12,
     "metadata": {},
     "output_type": "execute_result"
    }
   ],
   "source": [
    "pd.crosstab(index=train_dts['Sex'], columns=train_dts['Pclass'], values=train_dts.Survived, aggfunc='mean')"
   ]
  },
  {
   "cell_type": "markdown",
   "metadata": {
    "papermill": {
     "duration": 0.036177,
     "end_time": "2020-10-15T04:03:26.167262",
     "exception": false,
     "start_time": "2020-10-15T04:03:26.131085",
     "status": "completed"
    },
    "tags": []
   },
   "source": [
    "also the `gender` in the classes also has an influence as it can be seen that female has **96%** chances and males has **36%** in class 1 only and can seen decreasing with `lower class`"
   ]
  },
  {
   "cell_type": "code",
   "execution_count": 13,
   "metadata": {
    "execution": {
     "iopub.execute_input": "2020-10-15T04:03:26.250399Z",
     "iopub.status.busy": "2020-10-15T04:03:26.249414Z",
     "iopub.status.idle": "2020-10-15T04:03:26.364868Z",
     "shell.execute_reply": "2020-10-15T04:03:26.364314Z"
    },
    "papermill": {
     "duration": 0.162077,
     "end_time": "2020-10-15T04:03:26.364984",
     "exception": false,
     "start_time": "2020-10-15T04:03:26.202907",
     "status": "completed"
    },
    "tags": []
   },
   "outputs": [
    {
     "data": {
      "image/png": "[encoded data removed]",
      "text/plain": [
       "<Figure size 432x288 with 1 Axes>"
      ]
     },
     "metadata": {
      "needs_background": "light"
     },
     "output_type": "display_data"
    }
   ],
   "source": [
    "embarked_hist = train_dts.Embarked.hist()"
   ]
  },
  {
   "cell_type": "markdown",
   "metadata": {
    "papermill": {
     "duration": 0.035745,
     "end_time": "2020-10-15T04:03:26.436843",
     "exception": false,
     "start_time": "2020-10-15T04:03:26.401098",
     "status": "completed"
    },
    "tags": []
   },
   "source": [
    "### **3.3 Missing Values**\n",
    "As seen from below, some columns have missing values. `display_missing` function shows the count of missing values in every column in both training and test set by using `info()` function in non null count\n",
    "\n",
    "* Training set and test set both have missing values in `Age`, `Cabin` and `Embarked` columns. and in `fare` test set \n",
    "\n",
    "Missing values in `Age`, `Embarked` and `Fare` can be filled with descriptive statistical measures but that wouldn't work for `Cabin`.\n",
    "\n",
    "above histogram shows that most of the passengers belong to the `S` (Southampton) in `Embarked`, let's fill tha `nan` values by **S** in training set and test set. And the `nan values` in `age` can be filled by takaing `mean` of all age in test and train sets"
   ]
  },
  {
   "cell_type": "code",
   "execution_count": 14,
   "metadata": {
    "execution": {
     "iopub.execute_input": "2020-10-15T04:03:26.517831Z",
     "iopub.status.busy": "2020-10-15T04:03:26.517036Z",
     "iopub.status.idle": "2020-10-15T04:03:26.521357Z",
     "shell.execute_reply": "2020-10-15T04:03:26.520870Z"
    },
    "papermill": {
     "duration": 0.048491,
     "end_time": "2020-10-15T04:03:26.521462",
     "exception": false,
     "start_time": "2020-10-15T04:03:26.472971",
     "status": "completed"
    },
    "tags": []
   },
   "outputs": [
    {
     "data": {
      "text/plain": [
       "0"
      ]
     },
     "execution_count": 14,
     "metadata": {},
     "output_type": "execute_result"
    }
   ],
   "source": [
    "#Fill nan values in Embarked with 'S' as it is most frequent value\n",
    "train_dts['Embarked'] = train_dts['Embarked'].fillna('S')\n",
    "train_dts['Age'] = train_dts['Age'].fillna(train_dts['Age'].mean())\n",
    "train_dts['Age'].isnull().sum() "
   ]
  },
  {
   "cell_type": "markdown",
   "metadata": {
    "papermill": {
     "duration": 0.036721,
     "end_time": "2020-10-15T04:03:26.594887",
     "exception": false,
     "start_time": "2020-10-15T04:03:26.558166",
     "status": "completed"
    },
    "tags": []
   },
   "source": [
    "the `nan` values in `fare` column can be filled taking median in test set"
   ]
  },
  {
   "cell_type": "code",
   "execution_count": 15,
   "metadata": {
    "execution": {
     "iopub.execute_input": "2020-10-15T04:03:26.674433Z",
     "iopub.status.busy": "2020-10-15T04:03:26.673692Z",
     "iopub.status.idle": "2020-10-15T04:03:26.676482Z",
     "shell.execute_reply": "2020-10-15T04:03:26.675939Z"
    },
    "papermill": {
     "duration": 0.045438,
     "end_time": "2020-10-15T04:03:26.676592",
     "exception": false,
     "start_time": "2020-10-15T04:03:26.631154",
     "status": "completed"
    },
    "tags": []
   },
   "outputs": [],
   "source": [
    "test_dts['Fare'] = test_dts['Fare'].fillna(test_dts['Fare'].median())\n",
    "test_dts['Age'] = test_dts['Age'].fillna(test_dts['Age'].mean())"
   ]
  },
  {
   "cell_type": "markdown",
   "metadata": {
    "papermill": {
     "duration": 0.036038,
     "end_time": "2020-10-15T04:03:26.749348",
     "exception": false,
     "start_time": "2020-10-15T04:03:26.713310",
     "status": "completed"
    },
    "tags": []
   },
   "source": [
    "creating titles from names of passengers"
   ]
  },
  {
   "cell_type": "code",
   "execution_count": 16,
   "metadata": {
    "execution": {
     "iopub.execute_input": "2020-10-15T04:03:26.835035Z",
     "iopub.status.busy": "2020-10-15T04:03:26.830028Z",
     "iopub.status.idle": "2020-10-15T04:03:26.839556Z",
     "shell.execute_reply": "2020-10-15T04:03:26.838965Z"
    },
    "papermill": {
     "duration": 0.053967,
     "end_time": "2020-10-15T04:03:26.839663",
     "exception": false,
     "start_time": "2020-10-15T04:03:26.785696",
     "status": "completed"
    },
    "tags": []
   },
   "outputs": [
    {
     "data": {
      "text/plain": [
       "Mr              517\n",
       "Miss            182\n",
       "Mrs             125\n",
       "Master           40\n",
       "Dr                7\n",
       "Rev               6\n",
       "Major             2\n",
       "Col               2\n",
       "Mlle              2\n",
       "Don               1\n",
       "Mme               1\n",
       "Ms                1\n",
       "Jonkheer          1\n",
       "Capt              1\n",
       "Lady              1\n",
       "Sir               1\n",
       "the Countess      1\n",
       "Name: Title, dtype: int64"
      ]
     },
     "execution_count": 16,
     "metadata": {},
     "output_type": "execute_result"
    }
   ],
   "source": [
    "title = [i.split(\",\")[1].split(\".\")[0].strip() for i in train_dts['Name']]\n",
    "train_dts['Title'] = pd.Series(title)\n",
    "\n",
    "title_ = [i.split(\",\")[1].split(\".\")[0].strip() for i in test_dts['Name']]\n",
    "test_dts['Title'] = pd.Series(title_)\n",
    "\n",
    "train_dts.Title.value_counts()"
   ]
  },
  {
   "cell_type": "markdown",
   "metadata": {
    "papermill": {
     "duration": 0.036701,
     "end_time": "2020-10-15T04:03:26.913318",
     "exception": false,
     "start_time": "2020-10-15T04:03:26.876617",
     "status": "completed"
    },
    "tags": []
   },
   "source": [
    "`'Lady', 'the Countess', 'Countess', 'Capt', 'Col', 'Don',  'Dr', 'Major', 'Rev', 'Sir', 'Jonkheer', 'Dona', 'Mme', 'Ms', 'Mlle'` these titles appers less in the dataset as their count is 1 or 2 lets remove them by a single lable `rare`"
   ]
  },
  {
   "cell_type": "code",
   "execution_count": 17,
   "metadata": {
    "execution": {
     "iopub.execute_input": "2020-10-15T04:03:26.997510Z",
     "iopub.status.busy": "2020-10-15T04:03:26.996655Z",
     "iopub.status.idle": "2020-10-15T04:03:26.998831Z",
     "shell.execute_reply": "2020-10-15T04:03:26.999304Z"
    },
    "papermill": {
     "duration": 0.049034,
     "end_time": "2020-10-15T04:03:26.999439",
     "exception": false,
     "start_time": "2020-10-15T04:03:26.950405",
     "status": "completed"
    },
    "tags": []
   },
   "outputs": [],
   "source": [
    "train_dts[\"Title\"] = train_dts[\"Title\"].replace(['Lady', 'the Countess', 'Countess', 'Capt', 'Col', 'Don',  'Dr',\n",
    "                                                 'Major', 'Rev', 'Sir', 'Jonkheer', 'Dona', 'Mme', 'Ms', 'Mlle'],\n",
    "                                                'Rare'\n",
    "                                               )\n",
    "test_dts[\"Title\"] = test_dts[\"Title\"].replace(['Lady', 'the Countess', 'Countess', 'Capt', 'Col', 'Don', 'Dr',\n",
    "                                               'Major', 'Rev', 'Sir', 'Jonkheer', 'Dona', 'Mme', 'Ms', 'Mlle'],\n",
    "                                              'Rare'\n",
    "                                             )"
   ]
  },
  {
   "cell_type": "code",
   "execution_count": 18,
   "metadata": {
    "execution": {
     "iopub.execute_input": "2020-10-15T04:03:27.085566Z",
     "iopub.status.busy": "2020-10-15T04:03:27.084697Z",
     "iopub.status.idle": "2020-10-15T04:03:27.202671Z",
     "shell.execute_reply": "2020-10-15T04:03:27.202053Z"
    },
    "papermill": {
     "duration": 0.166327,
     "end_time": "2020-10-15T04:03:27.202798",
     "exception": false,
     "start_time": "2020-10-15T04:03:27.036471",
     "status": "completed"
    },
    "tags": []
   },
   "outputs": [
    {
     "data": {
      "text/plain": [
       "<function matplotlib.pyplot.show(*args, **kw)>"
      ]
     },
     "execution_count": 18,
     "metadata": {},
     "output_type": "execute_result"
    },
    {
     "data": {
      "image/png": "[encoded data removed]",
      "text/plain": [
       "<Figure size 432x432 with 1 Axes>"
      ]
     },
     "metadata": {
      "needs_background": "light"
     },
     "output_type": "display_data"
    }
   ],
   "source": [
    "plt.figure(figsize=(6,6))\n",
    "plt.hist(train_dts.Title)\n",
    "plt.xticks(rotation=45)\n",
    "plt.show"
   ]
  },
  {
   "cell_type": "code",
   "execution_count": 19,
   "metadata": {
    "execution": {
     "iopub.execute_input": "2020-10-15T04:03:27.297369Z",
     "iopub.status.busy": "2020-10-15T04:03:27.296380Z",
     "iopub.status.idle": "2020-10-15T04:03:27.300881Z",
     "shell.execute_reply": "2020-10-15T04:03:27.300309Z"
    },
    "papermill": {
     "duration": 0.059442,
     "end_time": "2020-10-15T04:03:27.301002",
     "exception": false,
     "start_time": "2020-10-15T04:03:27.241560",
     "status": "completed"
    },
    "tags": []
   },
   "outputs": [
    {
     "name": "stdout",
     "output_type": "stream",
     "text": [
      "probablity of Surviving if Mr : 0.16\n",
      "probablity of Surviving if Mrs : 0.79\n",
      "probablity of Surviving if Miss : 0.70\n",
      "probablity of Surviving if Master : 0.57\n",
      "probablity of Surviving if Rare : 0.44\n"
     ]
    }
   ],
   "source": [
    "mr = train_dts.loc[train_dts['Title']=='Mr'].Survived\n",
    "miss = train_dts.loc[train_dts['Title']=='Miss'].Survived\n",
    "mrs = train_dts.loc[train_dts['Title']=='Mrs'].Survived\n",
    "master = train_dts.loc[train_dts['Title']=='Master'].Survived\n",
    "rare = train_dts.loc[train_dts['Title']=='Rare'].Survived\n",
    "\n",
    "print(\"probablity of Surviving if Mr : {:.2f}\".format(sum(mr)/len(mr)))\n",
    "print(\"probablity of Surviving if Mrs : {:.2f}\".format(sum(mrs)/len(mrs)))\n",
    "print(\"probablity of Surviving if Miss : {:.2f}\".format(sum(miss)/len(miss)))\n",
    "print(\"probablity of Surviving if Master : {:.2f}\".format(sum(master)/len(master)))\n",
    "print(\"probablity of Surviving if Rare : {:.2f}\".format(sum(rare)/len(rare)))"
   ]
  },
  {
   "cell_type": "markdown",
   "metadata": {
    "papermill": {
     "duration": 0.046503,
     "end_time": "2020-10-15T04:03:27.395090",
     "exception": false,
     "start_time": "2020-10-15T04:03:27.348587",
     "status": "completed"
    },
    "tags": []
   },
   "source": [
    "the surviving probablities of titles `Miss`, `Mrs` and `Master` are higher"
   ]
  },
  {
   "cell_type": "code",
   "execution_count": 20,
   "metadata": {
    "execution": {
     "iopub.execute_input": "2020-10-15T04:03:27.487509Z",
     "iopub.status.busy": "2020-10-15T04:03:27.486254Z",
     "iopub.status.idle": "2020-10-15T04:03:27.864028Z",
     "shell.execute_reply": "2020-10-15T04:03:27.863516Z"
    },
    "papermill": {
     "duration": 0.423747,
     "end_time": "2020-10-15T04:03:27.864144",
     "exception": false,
     "start_time": "2020-10-15T04:03:27.440397",
     "status": "completed"
    },
    "tags": []
   },
   "outputs": [
    {
     "data": {
      "image/png": "[encoded data removed]",
      "text/plain": [
       "<Figure size 360x360 with 1 Axes>"
      ]
     },
     "metadata": {
      "needs_background": "light"
     },
     "output_type": "display_data"
    }
   ],
   "source": [
    "g = sns.catplot(x=\"Title\", y=\"Survived\", data=train_dts, kind='bar').set_ylabels(\"Survival Probability\")"
   ]
  },
  {
   "cell_type": "markdown",
   "metadata": {
    "papermill": {
     "duration": 0.038899,
     "end_time": "2020-10-15T04:03:27.942237",
     "exception": false,
     "start_time": "2020-10-15T04:03:27.903338",
     "status": "completed"
    },
    "tags": []
   },
   "source": [
    "it can be assumend that the larger families size has difficulties to get on board as they to find all the mambers of families, lets create a new column of Family size"
   ]
  },
  {
   "cell_type": "code",
   "execution_count": 21,
   "metadata": {
    "execution": {
     "iopub.execute_input": "2020-10-15T04:03:28.029030Z",
     "iopub.status.busy": "2020-10-15T04:03:28.028359Z",
     "iopub.status.idle": "2020-10-15T04:03:28.031612Z",
     "shell.execute_reply": "2020-10-15T04:03:28.031079Z"
    },
    "papermill": {
     "duration": 0.050165,
     "end_time": "2020-10-15T04:03:28.031784",
     "exception": false,
     "start_time": "2020-10-15T04:03:27.981619",
     "status": "completed"
    },
    "tags": []
   },
   "outputs": [],
   "source": [
    "train_dts['FamilySize'] = train_dts['SibSp'] + train_dts['Parch'] + 1\n",
    "test_dts['FamilySize'] = test_dts['SibSp'] + test_dts['Parch'] + 1"
   ]
  },
  {
   "cell_type": "code",
   "execution_count": 22,
   "metadata": {
    "execution": {
     "iopub.execute_input": "2020-10-15T04:03:28.125090Z",
     "iopub.status.busy": "2020-10-15T04:03:28.119351Z",
     "iopub.status.idle": "2020-10-15T04:03:28.514604Z",
     "shell.execute_reply": "2020-10-15T04:03:28.514042Z"
    },
    "papermill": {
     "duration": 0.443374,
     "end_time": "2020-10-15T04:03:28.514710",
     "exception": false,
     "start_time": "2020-10-15T04:03:28.071336",
     "status": "completed"
    },
    "tags": []
   },
   "outputs": [
    {
     "data": {
      "image/png": "[encoded data removed]",
      "text/plain": [
       "<Figure size 360x360 with 1 Axes>"
      ]
     },
     "metadata": {
      "needs_background": "light"
     },
     "output_type": "display_data"
    }
   ],
   "source": [
    "g = sns.catplot(data=train_dts, x='FamilySize', y='Survived', kind='point').set_ylabels(\"Survival Probability\")"
   ]
  },
  {
   "cell_type": "markdown",
   "metadata": {
    "papermill": {
     "duration": 0.041292,
     "end_time": "2020-10-15T04:03:28.596523",
     "exception": false,
     "start_time": "2020-10-15T04:03:28.555231",
     "status": "completed"
    },
    "tags": []
   },
   "source": [
    "above graph verifies that persons with family size of 1 to 4 had more surviving prob and larger families with 8 and 11 has nearly 0 probablity"
   ]
  },
  {
   "cell_type": "markdown",
   "metadata": {
    "papermill": {
     "duration": 0.039906,
     "end_time": "2020-10-15T04:03:28.676550",
     "exception": false,
     "start_time": "2020-10-15T04:03:28.636644",
     "status": "completed"
    },
    "tags": []
   },
   "source": [
    "* Sigleton : a boolean variable that describes families of size = 1\n",
    "* SmallFamily : a boolean variable that describes families of 2 <= size <= 4\n",
    "* LargeFamily : a boolean variable that describes families of 5 < size"
   ]
  },
  {
   "cell_type": "code",
   "execution_count": 23,
   "metadata": {
    "execution": {
     "iopub.execute_input": "2020-10-15T04:03:28.773430Z",
     "iopub.status.busy": "2020-10-15T04:03:28.772687Z",
     "iopub.status.idle": "2020-10-15T04:03:28.775634Z",
     "shell.execute_reply": "2020-10-15T04:03:28.775174Z"
    },
    "papermill": {
     "duration": 0.058907,
     "end_time": "2020-10-15T04:03:28.775774",
     "exception": false,
     "start_time": "2020-10-15T04:03:28.716867",
     "status": "completed"
    },
    "tags": []
   },
   "outputs": [],
   "source": [
    "# on training set\n",
    "train_dts['Singleton'] = train_dts['FamilySize'].map(lambda s: 1 if s == 1 else 0)\n",
    "train_dts['SmallFamily'] = train_dts['FamilySize'].map(lambda s: 1 if 2 <= s <= 4 else 0)\n",
    "train_dts['LargeFamily'] = train_dts['FamilySize'].map(lambda s: 1 if 5 <= s else 0)\n",
    "\n",
    "# on test set\n",
    "test_dts['Singleton'] = test_dts['FamilySize'].map(lambda s: 1 if s == 1 else 0)\n",
    "test_dts['SmallFamily'] = test_dts['FamilySize'].map(lambda s: 1 if 2 <= s <= 4 else 0)\n",
    "test_dts['LargeFamily'] = test_dts['FamilySize'].map(lambda s: 1 if 5 <= s else 0)"
   ]
  },
  {
   "cell_type": "markdown",
   "metadata": {
    "papermill": {
     "duration": 0.040027,
     "end_time": "2020-10-15T04:03:28.856369",
     "exception": false,
     "start_time": "2020-10-15T04:03:28.816342",
     "status": "completed"
    },
    "tags": []
   },
   "source": [
    "it can be assumed that passengers with missing values in cabin not had a cabin aat all so we fill it by 0 and passengers with cabin can be filled by 1"
   ]
  },
  {
   "cell_type": "code",
   "execution_count": 24,
   "metadata": {
    "execution": {
     "iopub.execute_input": "2020-10-15T04:03:28.950391Z",
     "iopub.status.busy": "2020-10-15T04:03:28.943914Z",
     "iopub.status.idle": "2020-10-15T04:03:28.953043Z",
     "shell.execute_reply": "2020-10-15T04:03:28.953610Z"
    },
    "papermill": {
     "duration": 0.05716,
     "end_time": "2020-10-15T04:03:28.953774",
     "exception": false,
     "start_time": "2020-10-15T04:03:28.896614",
     "status": "completed"
    },
    "tags": []
   },
   "outputs": [],
   "source": [
    "train_dts.loc[train_dts.Cabin.isnull(), 'Cabin'] = 0\n",
    "train_dts.loc[train_dts.Cabin != 0, 'Cabin'] = 1\n",
    "\n",
    "test_dts.loc[test_dts.Cabin.isnull(), 'Cabin'] = 0\n",
    "test_dts.loc[test_dts.Cabin != 0, 'Cabin'] = 1\n",
    "\n",
    "train_dts['Cabin'] = pd.to_numeric(train_dts['Cabin'])\n",
    "test_dts['Cabin'] = pd.to_numeric(test_dts['Cabin'])"
   ]
  },
  {
   "cell_type": "code",
   "execution_count": 25,
   "metadata": {
    "execution": {
     "iopub.execute_input": "2020-10-15T04:03:29.045034Z",
     "iopub.status.busy": "2020-10-15T04:03:29.044323Z",
     "iopub.status.idle": "2020-10-15T04:03:29.048503Z",
     "shell.execute_reply": "2020-10-15T04:03:29.047872Z"
    },
    "papermill": {
     "duration": 0.053782,
     "end_time": "2020-10-15T04:03:29.048615",
     "exception": false,
     "start_time": "2020-10-15T04:03:28.994833",
     "status": "completed"
    },
    "tags": []
   },
   "outputs": [
    {
     "data": {
      "text/plain": [
       "count        891\n",
       "unique       681\n",
       "top       347082\n",
       "freq           7\n",
       "Name: Ticket, dtype: object"
      ]
     },
     "execution_count": 25,
     "metadata": {},
     "output_type": "execute_result"
    }
   ],
   "source": [
    "train_dts.Ticket.describe()"
   ]
  },
  {
   "cell_type": "markdown",
   "metadata": {
    "papermill": {
     "duration": 0.040767,
     "end_time": "2020-10-15T04:03:29.130559",
     "exception": false,
     "start_time": "2020-10-15T04:03:29.089792",
     "status": "completed"
    },
    "tags": []
   },
   "source": [
    "ticket has a lot of duplicate values with mixed number and Alphabets lets now filter the ticket feature. \n",
    "We will clean ticket by getting prefix of the ticket number and for tickets with `digits only` will be replaced b `'X'`"
   ]
  },
  {
   "cell_type": "code",
   "execution_count": 26,
   "metadata": {
    "execution": {
     "iopub.execute_input": "2020-10-15T04:03:29.223421Z",
     "iopub.status.busy": "2020-10-15T04:03:29.222626Z",
     "iopub.status.idle": "2020-10-15T04:03:29.225927Z",
     "shell.execute_reply": "2020-10-15T04:03:29.225300Z"
    },
    "papermill": {
     "duration": 0.053651,
     "end_time": "2020-10-15T04:03:29.226079",
     "exception": false,
     "start_time": "2020-10-15T04:03:29.172428",
     "status": "completed"
    },
    "tags": []
   },
   "outputs": [],
   "source": [
    "def cleanTicket(ticket):\n",
    "    ticket = ticket.replace('.','')\n",
    "    ticket = ticket.replace('/','')\n",
    "    ticket = ticket.split()\n",
    "    ticket = ticket[0]\n",
    "    if ticket.isdigit():\n",
    "        return 'X'\n",
    "    else:\n",
    "        return ticket[0]\n",
    "    \n",
    "train_dts['Ticket'] = train_dts['Ticket'].map(cleanTicket)\n",
    "test_dts['Ticket'] = test_dts['Ticket'].map(cleanTicket)"
   ]
  },
  {
   "cell_type": "code",
   "execution_count": 27,
   "metadata": {
    "execution": {
     "iopub.execute_input": "2020-10-15T04:03:29.362772Z",
     "iopub.status.busy": "2020-10-15T04:03:29.361942Z",
     "iopub.status.idle": "2020-10-15T04:03:29.365848Z",
     "shell.execute_reply": "2020-10-15T04:03:29.366297Z"
    },
    "papermill": {
     "duration": 0.051385,
     "end_time": "2020-10-15T04:03:29.366447",
     "exception": false,
     "start_time": "2020-10-15T04:03:29.315062",
     "status": "completed"
    },
    "tags": []
   },
   "outputs": [
    {
     "data": {
      "text/plain": [
       "array(['A', 'P', 'S', 'X', 'C', 'W', 'F', 'L'], dtype=object)"
      ]
     },
     "execution_count": 27,
     "metadata": {},
     "output_type": "execute_result"
    }
   ],
   "source": [
    "train_dts.Ticket.unique()"
   ]
  },
  {
   "cell_type": "markdown",
   "metadata": {
    "papermill": {
     "duration": 0.041455,
     "end_time": "2020-10-15T04:03:29.449696",
     "exception": false,
     "start_time": "2020-10-15T04:03:29.408241",
     "status": "completed"
    },
    "tags": []
   },
   "source": [
    "now we are remaning with just 8 unique values "
   ]
  },
  {
   "cell_type": "code",
   "execution_count": 28,
   "metadata": {
    "execution": {
     "iopub.execute_input": "2020-10-15T04:03:29.538594Z",
     "iopub.status.busy": "2020-10-15T04:03:29.537880Z",
     "iopub.status.idle": "2020-10-15T04:03:29.550133Z",
     "shell.execute_reply": "2020-10-15T04:03:29.549533Z"
    },
    "papermill": {
     "duration": 0.058949,
     "end_time": "2020-10-15T04:03:29.550253",
     "exception": false,
     "start_time": "2020-10-15T04:03:29.491304",
     "status": "completed"
    },
    "tags": []
   },
   "outputs": [
    {
     "data": {
      "text/plain": [
       "PassengerId                      1\n",
       "Survived                         0\n",
       "Pclass                           1\n",
       "Name           Abbing, Mr. Anthony\n",
       "Sex                         female\n",
       "Age                           0.42\n",
       "SibSp                            0\n",
       "Parch                            0\n",
       "Ticket                           A\n",
       "Fare                             0\n",
       "Cabin                            0\n",
       "Embarked                         C\n",
       "Title                       Master\n",
       "FamilySize                       1\n",
       "Singleton                        0\n",
       "SmallFamily                      0\n",
       "LargeFamily                      0\n",
       "dtype: object"
      ]
     },
     "execution_count": 28,
     "metadata": {},
     "output_type": "execute_result"
    }
   ],
   "source": [
    "train_dts.min()"
   ]
  },
  {
   "cell_type": "code",
   "execution_count": 29,
   "metadata": {
    "execution": {
     "iopub.execute_input": "2020-10-15T04:03:29.645018Z",
     "iopub.status.busy": "2020-10-15T04:03:29.644139Z",
     "iopub.status.idle": "2020-10-15T04:03:29.648535Z",
     "shell.execute_reply": "2020-10-15T04:03:29.648055Z"
    },
    "papermill": {
     "duration": 0.05575,
     "end_time": "2020-10-15T04:03:29.648650",
     "exception": false,
     "start_time": "2020-10-15T04:03:29.592900",
     "status": "completed"
    },
    "tags": []
   },
   "outputs": [
    {
     "data": {
      "text/plain": [
       "PassengerId                            891\n",
       "Survived                                 1\n",
       "Pclass                                   3\n",
       "Name           van Melkebeke, Mr. Philemon\n",
       "Sex                                   male\n",
       "Age                                     80\n",
       "SibSp                                    8\n",
       "Parch                                    6\n",
       "Ticket                                   X\n",
       "Fare                               512.329\n",
       "Cabin                                    1\n",
       "Embarked                                 S\n",
       "Title                                 Rare\n",
       "FamilySize                              11\n",
       "Singleton                                1\n",
       "SmallFamily                              1\n",
       "LargeFamily                              1\n",
       "dtype: object"
      ]
     },
     "execution_count": 29,
     "metadata": {},
     "output_type": "execute_result"
    }
   ],
   "source": [
    "train_dts.max()"
   ]
  },
  {
   "cell_type": "markdown",
   "metadata": {
    "papermill": {
     "duration": 0.042465,
     "end_time": "2020-10-15T04:03:29.733541",
     "exception": false,
     "start_time": "2020-10-15T04:03:29.691076",
     "status": "completed"
    },
    "tags": []
   },
   "source": [
    "# 4. Creating train and test set and label encoding"
   ]
  },
  {
   "cell_type": "code",
   "execution_count": 30,
   "metadata": {
    "execution": {
     "iopub.execute_input": "2020-10-15T04:03:29.830224Z",
     "iopub.status.busy": "2020-10-15T04:03:29.829526Z",
     "iopub.status.idle": "2020-10-15T04:03:29.848929Z",
     "shell.execute_reply": "2020-10-15T04:03:29.848250Z"
    },
    "papermill": {
     "duration": 0.072595,
     "end_time": "2020-10-15T04:03:29.849047",
     "exception": false,
     "start_time": "2020-10-15T04:03:29.776452",
     "status": "completed"
    },
    "tags": []
   },
   "outputs": [
    {
     "data": {
      "text/plain": [
       "(891, 33)"
      ]
     },
     "execution_count": 30,
     "metadata": {},
     "output_type": "execute_result"
    }
   ],
   "source": [
    "X_train = pd.DataFrame.copy(train_dts)\n",
    "X_test = pd.DataFrame.copy(test_dts)\n",
    "\n",
    "# label encoding\n",
    "X_train = pd.get_dummies(X_train, columns=['Sex', 'Embarked', 'Title', \"Pclass\", 'Ticket'])\n",
    "X_test = pd.get_dummies(X_test, columns=['Sex', 'Embarked', 'Title', \"Pclass\", 'Ticket'])\n",
    "X_train.shape"
   ]
  },
  {
   "cell_type": "markdown",
   "metadata": {
    "papermill": {
     "duration": 0.043283,
     "end_time": "2020-10-15T04:03:29.935910",
     "exception": false,
     "start_time": "2020-10-15T04:03:29.892627",
     "status": "completed"
    },
    "tags": []
   },
   "source": [
    "now we having 33 features"
   ]
  },
  {
   "cell_type": "code",
   "execution_count": 31,
   "metadata": {
    "execution": {
     "iopub.execute_input": "2020-10-15T04:03:30.029776Z",
     "iopub.status.busy": "2020-10-15T04:03:30.029155Z",
     "iopub.status.idle": "2020-10-15T04:03:30.035224Z",
     "shell.execute_reply": "2020-10-15T04:03:30.034676Z"
    },
    "papermill": {
     "duration": 0.055574,
     "end_time": "2020-10-15T04:03:30.035335",
     "exception": false,
     "start_time": "2020-10-15T04:03:29.979761",
     "status": "completed"
    },
    "tags": []
   },
   "outputs": [],
   "source": [
    "# droping columns\n",
    "X_train.drop(labels=['Name', 'PassengerId', 'Survived'], axis=1, inplace=True)\n",
    "X_test.drop(labels=['Name', 'PassengerId'], axis=1, inplace=True)"
   ]
  },
  {
   "cell_type": "code",
   "execution_count": 32,
   "metadata": {
    "execution": {
     "iopub.execute_input": "2020-10-15T04:03:30.128329Z",
     "iopub.status.busy": "2020-10-15T04:03:30.127581Z",
     "iopub.status.idle": "2020-10-15T04:03:32.906535Z",
     "shell.execute_reply": "2020-10-15T04:03:32.907054Z"
    },
    "papermill": {
     "duration": 2.828644,
     "end_time": "2020-10-15T04:03:32.907200",
     "exception": false,
     "start_time": "2020-10-15T04:03:30.078556",
     "status": "completed"
    },
    "tags": []
   },
   "outputs": [
    {
     "data": {
      "image/png": "[encoded data removed]",
      "text/plain": [
       "<Figure size 1008x1008 with 2 Axes>"
      ]
     },
     "metadata": {
      "needs_background": "light"
     },
     "output_type": "display_data"
    }
   ],
   "source": [
    "plt.figure(figsize = (14,14))\n",
    "g = sns.heatmap(X_train.corr(),annot=True, fmt = \".1f\", cmap = \"coolwarm\")"
   ]
  },
  {
   "cell_type": "code",
   "execution_count": 33,
   "metadata": {
    "execution": {
     "iopub.execute_input": "2020-10-15T04:03:33.011191Z",
     "iopub.status.busy": "2020-10-15T04:03:33.010530Z",
     "iopub.status.idle": "2020-10-15T04:03:33.013279Z",
     "shell.execute_reply": "2020-10-15T04:03:33.012672Z"
    },
    "papermill": {
     "duration": 0.056845,
     "end_time": "2020-10-15T04:03:33.013404",
     "exception": false,
     "start_time": "2020-10-15T04:03:32.956559",
     "status": "completed"
    },
    "tags": []
   },
   "outputs": [],
   "source": [
    "y_train = train_dts.Survived"
   ]
  },
  {
   "cell_type": "code",
   "execution_count": 34,
   "metadata": {
    "execution": {
     "iopub.execute_input": "2020-10-15T04:03:33.118279Z",
     "iopub.status.busy": "2020-10-15T04:03:33.117571Z",
     "iopub.status.idle": "2020-10-15T04:03:33.144627Z",
     "shell.execute_reply": "2020-10-15T04:03:33.145123Z"
    },
    "papermill": {
     "duration": 0.082315,
     "end_time": "2020-10-15T04:03:33.145262",
     "exception": false,
     "start_time": "2020-10-15T04:03:33.062947",
     "status": "completed"
    },
    "tags": []
   },
   "outputs": [
    {
     "name": "stdout",
     "output_type": "stream",
     "text": [
      "<class 'pandas.core.frame.DataFrame'>\n",
      "RangeIndex: 891 entries, 0 to 890\n",
      "Data columns (total 30 columns):\n",
      " #   Column        Non-Null Count  Dtype  \n",
      "---  ------        --------------  -----  \n",
      " 0   Age           891 non-null    float64\n",
      " 1   SibSp         891 non-null    int64  \n",
      " 2   Parch         891 non-null    int64  \n",
      " 3   Fare          891 non-null    float64\n",
      " 4   Cabin         891 non-null    int64  \n",
      " 5   FamilySize    891 non-null    int64  \n",
      " 6   Singleton     891 non-null    int64  \n",
      " 7   SmallFamily   891 non-null    int64  \n",
      " 8   LargeFamily   891 non-null    int64  \n",
      " 9   Sex_female    891 non-null    uint8  \n",
      " 10  Sex_male      891 non-null    uint8  \n",
      " 11  Embarked_C    891 non-null    uint8  \n",
      " 12  Embarked_Q    891 non-null    uint8  \n",
      " 13  Embarked_S    891 non-null    uint8  \n",
      " 14  Title_Master  891 non-null    uint8  \n",
      " 15  Title_Miss    891 non-null    uint8  \n",
      " 16  Title_Mr      891 non-null    uint8  \n",
      " 17  Title_Mrs     891 non-null    uint8  \n",
      " 18  Title_Rare    891 non-null    uint8  \n",
      " 19  Pclass_1      891 non-null    uint8  \n",
      " 20  Pclass_2      891 non-null    uint8  \n",
      " 21  Pclass_3      891 non-null    uint8  \n",
      " 22  Ticket_A      891 non-null    uint8  \n",
      " 23  Ticket_C      891 non-null    uint8  \n",
      " 24  Ticket_F      891 non-null    uint8  \n",
      " 25  Ticket_L      891 non-null    uint8  \n",
      " 26  Ticket_P      891 non-null    uint8  \n",
      " 27  Ticket_S      891 non-null    uint8  \n",
      " 28  Ticket_W      891 non-null    uint8  \n",
      " 29  Ticket_X      891 non-null    uint8  \n",
      "dtypes: float64(2), int64(7), uint8(21)\n",
      "memory usage: 81.0 KB\n"
     ]
    },
    {
     "data": {
      "text/html": [
       "<div>\n",
       "<style scoped>\n",
       "    .dataframe tbody tr th:only-of-type {\n",
       "        vertical-align: middle;\n",
       "    }\n",
       "\n",
       "    .dataframe tbody tr th {\n",
       "        vertical-align: top;\n",
       "    }\n",
       "\n",
       "    .dataframe thead th {\n",
       "        text-align: right;\n",
       "    }\n",
       "</style>\n",
       "<table border=\"1\" class=\"dataframe\">\n",
       "  <thead>\n",
       "    <tr style=\"text-align: right;\">\n",
       "      <th></th>\n",
       "      <th>Age</th>\n",
       "      <th>SibSp</th>\n",
       "      <th>Parch</th>\n",
       "      <th>Fare</th>\n",
       "      <th>Cabin</th>\n",
       "      <th>FamilySize</th>\n",
       "      <th>Singleton</th>\n",
       "      <th>SmallFamily</th>\n",
       "      <th>LargeFamily</th>\n",
       "      <th>Sex_female</th>\n",
       "      <th>...</th>\n",
       "      <th>Pclass_2</th>\n",
       "      <th>Pclass_3</th>\n",
       "      <th>Ticket_A</th>\n",
       "      <th>Ticket_C</th>\n",
       "      <th>Ticket_F</th>\n",
       "      <th>Ticket_L</th>\n",
       "      <th>Ticket_P</th>\n",
       "      <th>Ticket_S</th>\n",
       "      <th>Ticket_W</th>\n",
       "      <th>Ticket_X</th>\n",
       "    </tr>\n",
       "  </thead>\n",
       "  <tbody>\n",
       "    <tr>\n",
       "      <th>0</th>\n",
       "      <td>22.0</td>\n",
       "      <td>1</td>\n",
       "      <td>0</td>\n",
       "      <td>7.2500</td>\n",
       "      <td>0</td>\n",
       "      <td>2</td>\n",
       "      <td>0</td>\n",
       "      <td>1</td>\n",
       "      <td>0</td>\n",
       "      <td>0</td>\n",
       "      <td>...</td>\n",
       "      <td>0</td>\n",
       "      <td>1</td>\n",
       "      <td>1</td>\n",
       "      <td>0</td>\n",
       "      <td>0</td>\n",
       "      <td>0</td>\n",
       "      <td>0</td>\n",
       "      <td>0</td>\n",
       "      <td>0</td>\n",
       "      <td>0</td>\n",
       "    </tr>\n",
       "    <tr>\n",
       "      <th>1</th>\n",
       "      <td>38.0</td>\n",
       "      <td>1</td>\n",
       "      <td>0</td>\n",
       "      <td>71.2833</td>\n",
       "      <td>1</td>\n",
       "      <td>2</td>\n",
       "      <td>0</td>\n",
       "      <td>1</td>\n",
       "      <td>0</td>\n",
       "      <td>1</td>\n",
       "      <td>...</td>\n",
       "      <td>0</td>\n",
       "      <td>0</td>\n",
       "      <td>0</td>\n",
       "      <td>0</td>\n",
       "      <td>0</td>\n",
       "      <td>0</td>\n",
       "      <td>1</td>\n",
       "      <td>0</td>\n",
       "      <td>0</td>\n",
       "      <td>0</td>\n",
       "    </tr>\n",
       "    <tr>\n",
       "      <th>2</th>\n",
       "      <td>26.0</td>\n",
       "      <td>0</td>\n",
       "      <td>0</td>\n",
       "      <td>7.9250</td>\n",
       "      <td>0</td>\n",
       "      <td>1</td>\n",
       "      <td>1</td>\n",
       "      <td>0</td>\n",
       "      <td>0</td>\n",
       "      <td>1</td>\n",
       "      <td>...</td>\n",
       "      <td>0</td>\n",
       "      <td>1</td>\n",
       "      <td>0</td>\n",
       "      <td>0</td>\n",
       "      <td>0</td>\n",
       "      <td>0</td>\n",
       "      <td>0</td>\n",
       "      <td>1</td>\n",
       "      <td>0</td>\n",
       "      <td>0</td>\n",
       "    </tr>\n",
       "    <tr>\n",
       "      <th>3</th>\n",
       "      <td>35.0</td>\n",
       "      <td>1</td>\n",
       "      <td>0</td>\n",
       "      <td>53.1000</td>\n",
       "      <td>1</td>\n",
       "      <td>2</td>\n",
       "      <td>0</td>\n",
       "      <td>1</td>\n",
       "      <td>0</td>\n",
       "      <td>1</td>\n",
       "      <td>...</td>\n",
       "      <td>0</td>\n",
       "      <td>0</td>\n",
       "      <td>0</td>\n",
       "      <td>0</td>\n",
       "      <td>0</td>\n",
       "      <td>0</td>\n",
       "      <td>0</td>\n",
       "      <td>0</td>\n",
       "      <td>0</td>\n",
       "      <td>1</td>\n",
       "    </tr>\n",
       "    <tr>\n",
       "      <th>4</th>\n",
       "      <td>35.0</td>\n",
       "      <td>0</td>\n",
       "      <td>0</td>\n",
       "      <td>8.0500</td>\n",
       "      <td>0</td>\n",
       "      <td>1</td>\n",
       "      <td>1</td>\n",
       "      <td>0</td>\n",
       "      <td>0</td>\n",
       "      <td>0</td>\n",
       "      <td>...</td>\n",
       "      <td>0</td>\n",
       "      <td>1</td>\n",
       "      <td>0</td>\n",
       "      <td>0</td>\n",
       "      <td>0</td>\n",
       "      <td>0</td>\n",
       "      <td>0</td>\n",
       "      <td>0</td>\n",
       "      <td>0</td>\n",
       "      <td>1</td>\n",
       "    </tr>\n",
       "  </tbody>\n",
       "</table>\n",
       "<p>5 rows × 30 columns</p>\n",
       "</div>"
      ],
      "text/plain": [
       "    Age  SibSp  Parch     Fare  Cabin  FamilySize  Singleton  SmallFamily  \\\n",
       "0  22.0      1      0   7.2500      0           2          0            1   \n",
       "1  38.0      1      0  71.2833      1           2          0            1   \n",
       "2  26.0      0      0   7.9250      0           1          1            0   \n",
       "3  35.0      1      0  53.1000      1           2          0            1   \n",
       "4  35.0      0      0   8.0500      0           1          1            0   \n",
       "\n",
       "   LargeFamily  Sex_female  ...  Pclass_2  Pclass_3  Ticket_A  Ticket_C  \\\n",
       "0            0           0  ...         0         1         1         0   \n",
       "1            0           1  ...         0         0         0         0   \n",
       "2            0           1  ...         0         1         0         0   \n",
       "3            0           1  ...         0         0         0         0   \n",
       "4            0           0  ...         0         1         0         0   \n",
       "\n",
       "   Ticket_F  Ticket_L  Ticket_P  Ticket_S  Ticket_W  Ticket_X  \n",
       "0         0         0         0         0         0         0  \n",
       "1         0         0         1         0         0         0  \n",
       "2         0         0         0         1         0         0  \n",
       "3         0         0         0         0         0         1  \n",
       "4         0         0         0         0         0         1  \n",
       "\n",
       "[5 rows x 30 columns]"
      ]
     },
     "execution_count": 34,
     "metadata": {},
     "output_type": "execute_result"
    }
   ],
   "source": [
    "X_train.info()\n",
    "X_train.head()"
   ]
  },
  {
   "cell_type": "code",
   "execution_count": 35,
   "metadata": {
    "execution": {
     "iopub.execute_input": "2020-10-15T04:03:33.254159Z",
     "iopub.status.busy": "2020-10-15T04:03:33.253212Z",
     "iopub.status.idle": "2020-10-15T04:03:33.290379Z",
     "shell.execute_reply": "2020-10-15T04:03:33.291174Z"
    },
    "papermill": {
     "duration": 0.094675,
     "end_time": "2020-10-15T04:03:33.291398",
     "exception": false,
     "start_time": "2020-10-15T04:03:33.196723",
     "status": "completed"
    },
    "tags": []
   },
   "outputs": [
    {
     "name": "stdout",
     "output_type": "stream",
     "text": [
      "<class 'pandas.core.frame.DataFrame'>\n",
      "RangeIndex: 418 entries, 0 to 417\n",
      "Data columns (total 30 columns):\n",
      " #   Column        Non-Null Count  Dtype  \n",
      "---  ------        --------------  -----  \n",
      " 0   Age           418 non-null    float64\n",
      " 1   SibSp         418 non-null    int64  \n",
      " 2   Parch         418 non-null    int64  \n",
      " 3   Fare          418 non-null    float64\n",
      " 4   Cabin         418 non-null    int64  \n",
      " 5   FamilySize    418 non-null    int64  \n",
      " 6   Singleton     418 non-null    int64  \n",
      " 7   SmallFamily   418 non-null    int64  \n",
      " 8   LargeFamily   418 non-null    int64  \n",
      " 9   Sex_female    418 non-null    uint8  \n",
      " 10  Sex_male      418 non-null    uint8  \n",
      " 11  Embarked_C    418 non-null    uint8  \n",
      " 12  Embarked_Q    418 non-null    uint8  \n",
      " 13  Embarked_S    418 non-null    uint8  \n",
      " 14  Title_Master  418 non-null    uint8  \n",
      " 15  Title_Miss    418 non-null    uint8  \n",
      " 16  Title_Mr      418 non-null    uint8  \n",
      " 17  Title_Mrs     418 non-null    uint8  \n",
      " 18  Title_Rare    418 non-null    uint8  \n",
      " 19  Pclass_1      418 non-null    uint8  \n",
      " 20  Pclass_2      418 non-null    uint8  \n",
      " 21  Pclass_3      418 non-null    uint8  \n",
      " 22  Ticket_A      418 non-null    uint8  \n",
      " 23  Ticket_C      418 non-null    uint8  \n",
      " 24  Ticket_F      418 non-null    uint8  \n",
      " 25  Ticket_L      418 non-null    uint8  \n",
      " 26  Ticket_P      418 non-null    uint8  \n",
      " 27  Ticket_S      418 non-null    uint8  \n",
      " 28  Ticket_W      418 non-null    uint8  \n",
      " 29  Ticket_X      418 non-null    uint8  \n",
      "dtypes: float64(2), int64(7), uint8(21)\n",
      "memory usage: 38.1 KB\n"
     ]
    },
    {
     "data": {
      "text/html": [
       "<div>\n",
       "<style scoped>\n",
       "    .dataframe tbody tr th:only-of-type {\n",
       "        vertical-align: middle;\n",
       "    }\n",
       "\n",
       "    .dataframe tbody tr th {\n",
       "        vertical-align: top;\n",
       "    }\n",
       "\n",
       "    .dataframe thead th {\n",
       "        text-align: right;\n",
       "    }\n",
       "</style>\n",
       "<table border=\"1\" class=\"dataframe\">\n",
       "  <thead>\n",
       "    <tr style=\"text-align: right;\">\n",
       "      <th></th>\n",
       "      <th>Age</th>\n",
       "      <th>SibSp</th>\n",
       "      <th>Parch</th>\n",
       "      <th>Fare</th>\n",
       "      <th>Cabin</th>\n",
       "      <th>FamilySize</th>\n",
       "      <th>Singleton</th>\n",
       "      <th>SmallFamily</th>\n",
       "      <th>LargeFamily</th>\n",
       "      <th>Sex_female</th>\n",
       "      <th>...</th>\n",
       "      <th>Pclass_2</th>\n",
       "      <th>Pclass_3</th>\n",
       "      <th>Ticket_A</th>\n",
       "      <th>Ticket_C</th>\n",
       "      <th>Ticket_F</th>\n",
       "      <th>Ticket_L</th>\n",
       "      <th>Ticket_P</th>\n",
       "      <th>Ticket_S</th>\n",
       "      <th>Ticket_W</th>\n",
       "      <th>Ticket_X</th>\n",
       "    </tr>\n",
       "  </thead>\n",
       "  <tbody>\n",
       "    <tr>\n",
       "      <th>0</th>\n",
       "      <td>34.5</td>\n",
       "      <td>0</td>\n",
       "      <td>0</td>\n",
       "      <td>7.8292</td>\n",
       "      <td>0</td>\n",
       "      <td>1</td>\n",
       "      <td>1</td>\n",
       "      <td>0</td>\n",
       "      <td>0</td>\n",
       "      <td>0</td>\n",
       "      <td>...</td>\n",
       "      <td>0</td>\n",
       "      <td>1</td>\n",
       "      <td>0</td>\n",
       "      <td>0</td>\n",
       "      <td>0</td>\n",
       "      <td>0</td>\n",
       "      <td>0</td>\n",
       "      <td>0</td>\n",
       "      <td>0</td>\n",
       "      <td>1</td>\n",
       "    </tr>\n",
       "    <tr>\n",
       "      <th>1</th>\n",
       "      <td>47.0</td>\n",
       "      <td>1</td>\n",
       "      <td>0</td>\n",
       "      <td>7.0000</td>\n",
       "      <td>0</td>\n",
       "      <td>2</td>\n",
       "      <td>0</td>\n",
       "      <td>1</td>\n",
       "      <td>0</td>\n",
       "      <td>1</td>\n",
       "      <td>...</td>\n",
       "      <td>0</td>\n",
       "      <td>1</td>\n",
       "      <td>0</td>\n",
       "      <td>0</td>\n",
       "      <td>0</td>\n",
       "      <td>0</td>\n",
       "      <td>0</td>\n",
       "      <td>0</td>\n",
       "      <td>0</td>\n",
       "      <td>1</td>\n",
       "    </tr>\n",
       "    <tr>\n",
       "      <th>2</th>\n",
       "      <td>62.0</td>\n",
       "      <td>0</td>\n",
       "      <td>0</td>\n",
       "      <td>9.6875</td>\n",
       "      <td>0</td>\n",
       "      <td>1</td>\n",
       "      <td>1</td>\n",
       "      <td>0</td>\n",
       "      <td>0</td>\n",
       "      <td>0</td>\n",
       "      <td>...</td>\n",
       "      <td>1</td>\n",
       "      <td>0</td>\n",
       "      <td>0</td>\n",
       "      <td>0</td>\n",
       "      <td>0</td>\n",
       "      <td>0</td>\n",
       "      <td>0</td>\n",
       "      <td>0</td>\n",
       "      <td>0</td>\n",
       "      <td>1</td>\n",
       "    </tr>\n",
       "    <tr>\n",
       "      <th>3</th>\n",
       "      <td>27.0</td>\n",
       "      <td>0</td>\n",
       "      <td>0</td>\n",
       "      <td>8.6625</td>\n",
       "      <td>0</td>\n",
       "      <td>1</td>\n",
       "      <td>1</td>\n",
       "      <td>0</td>\n",
       "      <td>0</td>\n",
       "      <td>0</td>\n",
       "      <td>...</td>\n",
       "      <td>0</td>\n",
       "      <td>1</td>\n",
       "      <td>0</td>\n",
       "      <td>0</td>\n",
       "      <td>0</td>\n",
       "      <td>0</td>\n",
       "      <td>0</td>\n",
       "      <td>0</td>\n",
       "      <td>0</td>\n",
       "      <td>1</td>\n",
       "    </tr>\n",
       "    <tr>\n",
       "      <th>4</th>\n",
       "      <td>22.0</td>\n",
       "      <td>1</td>\n",
       "      <td>1</td>\n",
       "      <td>12.2875</td>\n",
       "      <td>0</td>\n",
       "      <td>3</td>\n",
       "      <td>0</td>\n",
       "      <td>1</td>\n",
       "      <td>0</td>\n",
       "      <td>1</td>\n",
       "      <td>...</td>\n",
       "      <td>0</td>\n",
       "      <td>1</td>\n",
       "      <td>0</td>\n",
       "      <td>0</td>\n",
       "      <td>0</td>\n",
       "      <td>0</td>\n",
       "      <td>0</td>\n",
       "      <td>0</td>\n",
       "      <td>0</td>\n",
       "      <td>1</td>\n",
       "    </tr>\n",
       "  </tbody>\n",
       "</table>\n",
       "<p>5 rows × 30 columns</p>\n",
       "</div>"
      ],
      "text/plain": [
       "    Age  SibSp  Parch     Fare  Cabin  FamilySize  Singleton  SmallFamily  \\\n",
       "0  34.5      0      0   7.8292      0           1          1            0   \n",
       "1  47.0      1      0   7.0000      0           2          0            1   \n",
       "2  62.0      0      0   9.6875      0           1          1            0   \n",
       "3  27.0      0      0   8.6625      0           1          1            0   \n",
       "4  22.0      1      1  12.2875      0           3          0            1   \n",
       "\n",
       "   LargeFamily  Sex_female  ...  Pclass_2  Pclass_3  Ticket_A  Ticket_C  \\\n",
       "0            0           0  ...         0         1         0         0   \n",
       "1            0           1  ...         0         1         0         0   \n",
       "2            0           0  ...         1         0         0         0   \n",
       "3            0           0  ...         0         1         0         0   \n",
       "4            0           1  ...         0         1         0         0   \n",
       "\n",
       "   Ticket_F  Ticket_L  Ticket_P  Ticket_S  Ticket_W  Ticket_X  \n",
       "0         0         0         0         0         0         1  \n",
       "1         0         0         0         0         0         1  \n",
       "2         0         0         0         0         0         1  \n",
       "3         0         0         0         0         0         1  \n",
       "4         0         0         0         0         0         1  \n",
       "\n",
       "[5 rows x 30 columns]"
      ]
     },
     "execution_count": 35,
     "metadata": {},
     "output_type": "execute_result"
    }
   ],
   "source": [
    "X_test.info()\n",
    "X_test.head()"
   ]
  },
  {
   "cell_type": "markdown",
   "metadata": {
    "papermill": {
     "duration": 0.052168,
     "end_time": "2020-10-15T04:03:33.399277",
     "exception": false,
     "start_time": "2020-10-15T04:03:33.347109",
     "status": "completed"
    },
    "tags": []
   },
   "source": [
    "after the final processing of features we are remaning with 30 features"
   ]
  },
  {
   "cell_type": "markdown",
   "metadata": {
    "papermill": {
     "duration": 0.051016,
     "end_time": "2020-10-15T04:03:33.501620",
     "exception": false,
     "start_time": "2020-10-15T04:03:33.450604",
     "status": "completed"
    },
    "tags": []
   },
   "source": [
    "# 5. XGBoost Model"
   ]
  },
  {
   "cell_type": "code",
   "execution_count": 36,
   "metadata": {
    "execution": {
     "iopub.execute_input": "2020-10-15T04:03:33.612498Z",
     "iopub.status.busy": "2020-10-15T04:03:33.611883Z",
     "iopub.status.idle": "2020-10-15T04:03:37.042953Z",
     "shell.execute_reply": "2020-10-15T04:03:37.042346Z"
    },
    "papermill": {
     "duration": 3.489918,
     "end_time": "2020-10-15T04:03:37.043077",
     "exception": false,
     "start_time": "2020-10-15T04:03:33.553159",
     "status": "completed"
    },
    "tags": []
   },
   "outputs": [
    {
     "name": "stdout",
     "output_type": "stream",
     "text": [
      "[[540  19]\n",
      " [  9 323]]\n",
      "Accuracy of training\n",
      "0.9685746352413019\n"
     ]
    }
   ],
   "source": [
    "from xgboost import XGBClassifier\n",
    "xgb_clf = XGBClassifier(n_estimators= 2000,\n",
    "                        max_depth= 4,\n",
    "                        min_child_weight= 2,\n",
    "                        gamma=0.9,                    \n",
    "                        subsample=0.8,\n",
    "                        colsample_bytree=0.8,\n",
    "                        objective= 'binary:logistic',\n",
    "                        nthread= -1,\n",
    "                        scale_pos_weight=1\n",
    "                       )\n",
    "\n",
    "xgb_clf.fit(X_train, y_train)\n",
    "\n",
    "# testing on train set\n",
    "from sklearn.metrics import confusion_matrix, accuracy_score\n",
    "print(confusion_matrix(xgb_clf.predict(X_train), y_train))\n",
    "print('Accuracy of training')\n",
    "print(accuracy_score(xgb_clf.predict(X_train), y_train))"
   ]
  },
  {
   "cell_type": "code",
   "execution_count": 37,
   "metadata": {
    "execution": {
     "iopub.execute_input": "2020-10-15T04:03:37.154267Z",
     "iopub.status.busy": "2020-10-15T04:03:37.153572Z",
     "iopub.status.idle": "2020-10-15T04:03:37.416359Z",
     "shell.execute_reply": "2020-10-15T04:03:37.415849Z"
    },
    "papermill": {
     "duration": 0.32203,
     "end_time": "2020-10-15T04:03:37.416478",
     "exception": false,
     "start_time": "2020-10-15T04:03:37.094448",
     "status": "completed"
    },
    "tags": []
   },
   "outputs": [
    {
     "data": {
      "text/html": [
       "<div>\n",
       "<style scoped>\n",
       "    .dataframe tbody tr th:only-of-type {\n",
       "        vertical-align: middle;\n",
       "    }\n",
       "\n",
       "    .dataframe tbody tr th {\n",
       "        vertical-align: top;\n",
       "    }\n",
       "\n",
       "    .dataframe thead th {\n",
       "        text-align: right;\n",
       "    }\n",
       "</style>\n",
       "<table border=\"1\" class=\"dataframe\">\n",
       "  <thead>\n",
       "    <tr style=\"text-align: right;\">\n",
       "      <th></th>\n",
       "      <th>PassengerId</th>\n",
       "      <th>Survived</th>\n",
       "    </tr>\n",
       "  </thead>\n",
       "  <tbody>\n",
       "    <tr>\n",
       "      <th>0</th>\n",
       "      <td>892</td>\n",
       "      <td>0</td>\n",
       "    </tr>\n",
       "    <tr>\n",
       "      <th>1</th>\n",
       "      <td>893</td>\n",
       "      <td>0</td>\n",
       "    </tr>\n",
       "    <tr>\n",
       "      <th>2</th>\n",
       "      <td>894</td>\n",
       "      <td>0</td>\n",
       "    </tr>\n",
       "    <tr>\n",
       "      <th>3</th>\n",
       "      <td>895</td>\n",
       "      <td>0</td>\n",
       "    </tr>\n",
       "    <tr>\n",
       "      <th>4</th>\n",
       "      <td>896</td>\n",
       "      <td>1</td>\n",
       "    </tr>\n",
       "    <tr>\n",
       "      <th>5</th>\n",
       "      <td>897</td>\n",
       "      <td>0</td>\n",
       "    </tr>\n",
       "    <tr>\n",
       "      <th>6</th>\n",
       "      <td>898</td>\n",
       "      <td>0</td>\n",
       "    </tr>\n",
       "    <tr>\n",
       "      <th>7</th>\n",
       "      <td>899</td>\n",
       "      <td>0</td>\n",
       "    </tr>\n",
       "    <tr>\n",
       "      <th>8</th>\n",
       "      <td>900</td>\n",
       "      <td>1</td>\n",
       "    </tr>\n",
       "    <tr>\n",
       "      <th>9</th>\n",
       "      <td>901</td>\n",
       "      <td>0</td>\n",
       "    </tr>\n",
       "  </tbody>\n",
       "</table>\n",
       "</div>"
      ],
      "text/plain": [
       "   PassengerId  Survived\n",
       "0          892         0\n",
       "1          893         0\n",
       "2          894         0\n",
       "3          895         0\n",
       "4          896         1\n",
       "5          897         0\n",
       "6          898         0\n",
       "7          899         0\n",
       "8          900         1\n",
       "9          901         0"
      ]
     },
     "execution_count": 37,
     "metadata": {},
     "output_type": "execute_result"
    }
   ],
   "source": [
    "pred = pd.Series(xgb_clf.predict(X_test), name='Survived')\n",
    "results = pd.concat([test_dts['PassengerId'], pred], axis=1)\n",
    "results.to_csv(\"submission.csv\", index=False)\n",
    "results.head(10)"
   ]
  },
  {
   "cell_type": "markdown",
   "metadata": {
    "papermill": {
     "duration": 0.051781,
     "end_time": "2020-10-15T04:03:37.520982",
     "exception": false,
     "start_time": "2020-10-15T04:03:37.469201",
     "status": "completed"
    },
    "tags": []
   },
   "source": [
    "if you like my work or it helped, an upvote will help me keep me motivated.."
   ]
  }
 ],
 "metadata": {
  "kernelspec": {
   "display_name": "Python 3",
   "language": "python",
   "name": "python3"
  },
  "language_info": {
   "codemirror_mode": {
    "name": "ipython",
    "version": 3
   },
   "file_extension": ".py",
   "mimetype": "text/x-python",
   "name": "python",
   "nbconvert_exporter": "python",
   "pygments_lexer": "ipython3",
   "version": "3.7.6"
  },
  "papermill": {
   "duration": 19.438396,
   "end_time": "2020-10-15T04:03:37.680866",
   "environment_variables": {},
   "exception": null,
   "input_path": "__notebook__.ipynb",
   "output_path": "__notebook__.ipynb",
   "parameters": {},
   "start_time": "2020-10-15T04:03:18.242470",
   "version": "2.1.0"
  }
 },
 "nbformat": 4,
 "nbformat_minor": 4
}
